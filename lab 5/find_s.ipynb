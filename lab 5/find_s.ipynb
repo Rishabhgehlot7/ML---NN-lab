{
 "cells": [
  {
   "cell_type": "code",
   "execution_count": 54,
   "metadata": {},
   "outputs": [
    {
     "name": "stdout",
     "output_type": "stream",
     "text": [
      "     sky airtemp humidity    wind water forecast play\n",
      "0  sunny    warm   normal  strong  warm     same  yes\n",
      "1  sunny    warm     high  strong  warm     same  yes\n",
      "2  rainy    cold     high  strong  warm   change   no\n",
      "3  sunny    warm     high  strong  cool   change  yes\n",
      "sky          sunny\n",
      "airtemp       warm\n",
      "humidity    normal\n",
      "wind        strong\n",
      "water         warm\n",
      "forecast      same\n",
      "play           yes\n",
      "Name: 0, dtype: object\n"
     ]
    }
   ],
   "source": [
    "import pandas as pd\n",
    "data={\n",
    "    \"sky\":[\"sunny\",\"sunny\",\"rainy\",\"sunny\",],\n",
    "    \"airtemp\":[\"warm\",\"warm\",\"cold\",\"warm\",],\n",
    "    \"humidity\":[\"normal\",\"high\",\"high\",\"high\",],\n",
    "    \"wind\":[\"strong\",\"strong\",\"strong\",\"strong\",],\n",
    "    \"water\":[\"warm\",\"warm\",\"warm\",\"cool\",],\n",
    "    \"forecast\":[\"same\",\"same\",\"change\",\"change\",],\n",
    "    \"play\":[\"yes\",\"yes\",\"no\",\"yes\",],\n",
    "}\n",
    "\n",
    "df = pd.DataFrame(data)\n",
    "\n",
    "print(df) \n",
    "\n",
    "first_row = df.iloc[0]\n",
    "print(first_row)\n",
    "\n",
    "\n",
    "df = df[df['play'] != 'no']\n",
    "del df['play']\n",
    "# Find the length of the DataFrame\n",
    "df_length = len(df)"
   ]
  },
  {
   "cell_type": "code",
   "execution_count": 55,
   "metadata": {},
   "outputs": [],
   "source": [
    "ho = [\"ϕ\",\"ϕ\",\"ϕ\",\"ϕ\",\"ϕ\",\"ϕ\",] \n"
   ]
  },
  {
   "cell_type": "code",
   "execution_count": 56,
   "metadata": {},
   "outputs": [
    {
     "name": "stdout",
     "output_type": "stream",
     "text": [
      "sky          sunny\n",
      "airtemp       warm\n",
      "humidity         ?\n",
      "wind        strong\n",
      "water            ?\n",
      "forecast         ?\n",
      "Name: 0, dtype: object\n"
     ]
    },
    {
     "name": "stderr",
     "output_type": "stream",
     "text": [
      "C:\\Users\\Owner\\AppData\\Local\\Temp\\ipykernel_22872\\3789688529.py:9: SettingWithCopyWarning: \n",
      "A value is trying to be set on a copy of a slice from a DataFrame\n",
      "\n",
      "See the caveats in the documentation: https://pandas.pydata.org/pandas-docs/stable/user_guide/indexing.html#returning-a-view-versus-a-copy\n",
      "  ho[j] = \"?\"\n"
     ]
    }
   ],
   "source": [
    "df_length = len(df)\n",
    "ho=df.iloc[0]\n",
    "for i in range(df_length):\n",
    "    if all(df.iloc[i] == ho):\n",
    "        pass\n",
    "    else:\n",
    "        for j in range(len(ho)):\n",
    "            if ho[j] != df.iloc[i][j]:\n",
    "                ho[j] = \"?\"\n",
    "\n",
    "print(ho)"
   ]
  },
  {
   "cell_type": "code",
   "execution_count": 65,
   "metadata": {},
   "outputs": [
    {
     "name": "stdout",
     "output_type": "stream",
     "text": [
      "sky          sunny\n",
      "airtemp       warm\n",
      "humidity         ?\n",
      "wind        strong\n",
      "water            ?\n",
      "forecast         ?\n",
      "Name: 0, dtype: object\n"
     ]
    },
    {
     "name": "stderr",
     "output_type": "stream",
     "text": [
      "C:\\Users\\Owner\\AppData\\Local\\Temp\\ipykernel_22872\\2899396276.py:24: SettingWithCopyWarning: \n",
      "A value is trying to be set on a copy of a slice from a DataFrame\n",
      "\n",
      "See the caveats in the documentation: https://pandas.pydata.org/pandas-docs/stable/user_guide/indexing.html#returning-a-view-versus-a-copy\n",
      "  ho[j] = \"?\"\n"
     ]
    }
   ],
   "source": [
    "\n",
    "data={\n",
    "    \"sky\":[\"sunny\",\"sunny\",\"rainy\",\"sunny\",],\n",
    "    \"airtemp\":[\"warm\",\"warm\",\"cold\",\"warm\",],\n",
    "    \"humidity\":[\"normal\",\"high\",\"high\",\"high\",],\n",
    "    \"wind\":[\"strong\",\"strong\",\"strong\",\"strong\",],\n",
    "    \"water\":[\"warm\",\"warm\",\"warm\",\"cool\",],\n",
    "    \"forecast\":[\"same\",\"same\",\"change\",\"change\",],\n",
    "    \"play\":[\"yes\",\"yes\",\"no\",\"yes\",],\n",
    "}\n",
    "\n",
    "df = pd.DataFrame(data)\n",
    "\n",
    "def findS(df):\n",
    "    df = df[df['play'] != 'no']\n",
    "    del df['play']\n",
    "    ho = [\"ϕ\",\"ϕ\",\"ϕ\",\"ϕ\",\"ϕ\",\"ϕ\",] \n",
    "    ho=df.iloc[0]\n",
    "    for i in range(len(df)):\n",
    "        if all(df.iloc[i] == ho):\n",
    "            pass\n",
    "        else:\n",
    "            for j in range(len(ho)):\n",
    "                if ho[j] != df.iloc[i][j]:\n",
    "                    ho[j] = \"?\"\n",
    "    # print(ho)\n",
    "    return ho\n",
    "\n",
    "    \n",
    "print(findS(df))\n",
    "    \n",
    "    "
   ]
  },
  {
   "cell_type": "code",
   "execution_count": 69,
   "metadata": {},
   "outputs": [
    {
     "name": "stdout",
     "output_type": "stream",
     "text": [
      "ravi\n"
     ]
    }
   ],
   "source": [
    "# h1=\"rishabh\"\n",
    "h1=\"ravi\"\n",
    "print(h1)"
   ]
  }
 ],
 "metadata": {
  "kernelspec": {
   "display_name": "Python 3",
   "language": "python",
   "name": "python3"
  },
  "language_info": {
   "codemirror_mode": {
    "name": "ipython",
    "version": 3
   },
   "file_extension": ".py",
   "mimetype": "text/x-python",
   "name": "python",
   "nbconvert_exporter": "python",
   "pygments_lexer": "ipython3",
   "version": "3.11.3"
  }
 },
 "nbformat": 4,
 "nbformat_minor": 2
}
