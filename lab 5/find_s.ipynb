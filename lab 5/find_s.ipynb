{
 "cells": [
  {
   "cell_type": "code",
   "execution_count": 54,
   "metadata": {},
   "outputs": [
    {
     "name": "stdout",
     "output_type": "stream",
     "text": [
      "     sky airtemp humidity    wind water forecast play\n",
      "0  sunny    warm   normal  strong  warm     same  yes\n",
      "1  sunny    warm     high  strong  warm     same  yes\n",
      "2  rainy    cold     high  strong  warm   change   no\n",
      "3  sunny    warm     high  strong  cool   change  yes\n",
      "sky          sunny\n",
      "airtemp       warm\n",
      "humidity    normal\n",
      "wind        strong\n",
      "water         warm\n",
      "forecast      same\n",
      "play           yes\n",
      "Name: 0, dtype: object\n"
     ]
    }
   ],
   "source": [
    "import pandas as pd\n",
    "data={\n",
    "    \"sky\":[\"sunny\",\"sunny\",\"rainy\",\"sunny\",],\n",
    "    \"airtemp\":[\"warm\",\"warm\",\"cold\",\"warm\",],\n",
    "    \"humidity\":[\"normal\",\"high\",\"high\",\"high\",],\n",
    "    \"wind\":[\"strong\",\"strong\",\"strong\",\"strong\",],\n",
    "    \"water\":[\"warm\",\"warm\",\"warm\",\"cool\",],\n",
    "    \"forecast\":[\"same\",\"same\",\"change\",\"change\",],\n",
    "    \"play\":[\"yes\",\"yes\",\"no\",\"yes\",],\n",
    "}\n",
    "\n",
    "df = pd.DataFrame(data)\n",
    "\n",
    "print(df) \n",
    "\n",
    "first_row = df.iloc[0]\n",
    "print(first_row)\n",
    "\n",
    "\n",
    "df = df[df['play'] != 'no']\n",
    "del df['play']\n",
    "# Find the length of the DataFrame\n",
    "df_length = len(df)"
   ]
  },
  {
   "cell_type": "code",
   "execution_count": 55,
   "metadata": {},
   "outputs": [],
   "source": [
    "ho = [\"ϕ\",\"ϕ\",\"ϕ\",\"ϕ\",\"ϕ\",\"ϕ\",] \n"
   ]
  },
  {
   "cell_type": "code",
   "execution_count": 56,
   "metadata": {},
   "outputs": [
    {
     "name": "stdout",
     "output_type": "stream",
     "text": [
      "sky          sunny\n",
      "airtemp       warm\n",
      "humidity         ?\n",
      "wind        strong\n",
      "water            ?\n",
      "forecast         ?\n",
      "Name: 0, dtype: object\n"
     ]
    },
    {
     "name": "stderr",
     "output_type": "stream",
     "text": [
      "C:\\Users\\Owner\\AppData\\Local\\Temp\\ipykernel_22872\\3789688529.py:9: SettingWithCopyWarning: \n",
      "A value is trying to be set on a copy of a slice from a DataFrame\n",
      "\n",
      "See the caveats in the documentation: https://pandas.pydata.org/pandas-docs/stable/user_guide/indexing.html#returning-a-view-versus-a-copy\n",
      "  ho[j] = \"?\"\n"
     ]
    }
   ],
   "source": [
    "df_length = len(df)\n",
    "ho=df.iloc[0]\n",
    "for i in range(df_length):\n",
    "    if all(df.iloc[i] == ho):\n",
    "        pass\n",
    "    else:\n",
    "        for j in range(len(ho)):\n",
    "            if ho[j] != df.iloc[i][j]:\n",
    "                ho[j] = \"?\"\n",
    "\n",
    "print(ho)"
   ]
  },
  {
   "cell_type": "code",
   "execution_count": 70,
   "metadata": {},
   "outputs": [
    {
     "name": "stdout",
     "output_type": "stream",
     "text": [
      "sky          sunny\n",
      "airtemp       warm\n",
      "humidity         ?\n",
      "wind        strong\n",
      "water            ?\n",
      "forecast         ?\n",
      "Name: 0, dtype: object\n"
     ]
    },
    {
     "name": "stderr",
     "output_type": "stream",
     "text": [
      "C:\\Users\\Owner\\AppData\\Local\\Temp\\ipykernel_22872\\2915544810.py:24: SettingWithCopyWarning: \n",
      "A value is trying to be set on a copy of a slice from a DataFrame\n",
      "\n",
      "See the caveats in the documentation: https://pandas.pydata.org/pandas-docs/stable/user_guide/indexing.html#returning-a-view-versus-a-copy\n",
      "  ho[j] = \"?\"\n"
     ]
    }
   ],
   "source": [
    "\n",
    "data={\n",
    "    \"sky\":[\"sunny\",\"sunny\",\"rainy\",\"sunny\",],\n",
    "    \"airtemp\":[\"warm\",\"warm\",\"cold\",\"warm\",],\n",
    "    \"humidity\":[\"normal\",\"high\",\"high\",\"high\",],\n",
    "    \"wind\":[\"strong\",\"strong\",\"strong\",\"strong\",],\n",
    "    \"water\":[\"warm\",\"warm\",\"warm\",\"cool\",],\n",
    "    \"forecast\":[\"same\",\"same\",\"change\",\"change\",],\n",
    "    \"play\":[\"yes\",\"yes\",\"no\",\"yes\",],\n",
    "}\n",
    "\n",
    "df = pd.DataFrame(data)\n",
    "\n",
    "def findS(df):\n",
    "    df = df[df['play'] != 'no']\n",
    "    del df['play']\n",
    "    ho = [\"ϕ\",\"ϕ\",\"ϕ\",\"ϕ\",\"ϕ\",\"ϕ\",] \n",
    "    ho=df.iloc[0]\n",
    "    for i in range(len(df)):\n",
    "        if all(df.iloc[i] == ho):\n",
    "            pass\n",
    "        else:\n",
    "            for j in range(len(ho)):\n",
    "                if ho[j] != df.iloc[i][j]:\n",
    "                    ho[j] = \"?\"\n",
    "    # print(ho)\n",
    "    return ho\n",
    "\n",
    "    \n",
    "print(findS(df))\n",
    "    \n",
    "    "
   ]
  },
  {
   "cell_type": "code",
   "execution_count": 1,
   "metadata": {},
   "outputs": [
    {
     "name": "stdout",
     "output_type": "stream",
     "text": [
      "Data saved to 'data.csv' file.\n"
     ]
    }
   ],
   "source": [
    "import pandas as pd\n",
    "\n",
    "data = {\n",
    "    \"sky\": [\"sunny\", \"sunny\", \"rainy\", \"sunny\"],\n",
    "    \"airtemp\": [\"warm\", \"warm\", \"cold\", \"warm\"],\n",
    "    \"humidity\": [\"normal\", \"high\", \"high\", \"high\"],\n",
    "    \"wind\": [\"strong\", \"strong\", \"strong\", \"strong\"],\n",
    "    \"water\": [\"warm\", \"warm\", \"warm\", \"cool\"],\n",
    "    \"forecast\": [\"same\", \"same\", \"change\", \"change\"],\n",
    "    \"play\": [\"yes\", \"yes\", \"no\", \"yes\"],\n",
    "}\n",
    "\n",
    "# Convert data directly to CSV\n",
    "df = pd.DataFrame.from_dict(data)\n",
    "df.to_csv('data.csv', index=False)\n",
    "\n",
    "print(\"Data saved to 'data.csv' file.\")\n"
   ]
  },
  {
   "cell_type": "code",
   "execution_count": 3,
   "metadata": {},
   "outputs": [
    {
     "name": "stdout",
     "output_type": "stream",
     "text": [
      "Most Specific Hypothesis:\n",
      "sky          sunny\n",
      "airtemp       warm\n",
      "humidity         ?\n",
      "wind        strong\n",
      "water            ?\n",
      "forecast         ?\n",
      "play           yes\n",
      "Name: 0, dtype: object\n"
     ]
    }
   ],
   "source": [
    "import pandas as pd\n",
    "\n",
    "# Read data from 'data.csv' file\n",
    "df = pd.read_csv('data.csv')\n",
    "\n",
    "def findS(df,ho = [\"ϕ\",\"ϕ\",\"ϕ\",\"ϕ\",\"ϕ\",\"ϕ\",]):\n",
    "    df = df[df['play'] != 'no']\n",
    "    ho = df.iloc[0].copy()\n",
    "\n",
    "    for i in range(1, len(df)):\n",
    "        if all(df.iloc[i] == ho):\n",
    "            pass\n",
    "        else:\n",
    "            for j in range(len(ho)):\n",
    "                if ho[j] != df.iloc[i][j]:\n",
    "                    ho[j] = \"?\"\n",
    "\n",
    "    return ho\n",
    "\n",
    "result_hypothesis = findS(df)\n",
    "\n",
    "if result_hypothesis is not None:\n",
    "    print(\"Most Specific Hypothesis:\")\n",
    "    print(result_hypothesis)\n",
    "else:\n",
    "    print(\"No positive examples found.\")\n"
   ]
  }
 ],
 "metadata": {
  "kernelspec": {
   "display_name": "Python 3",
   "language": "python",
   "name": "python3"
  },
  "language_info": {
   "codemirror_mode": {
    "name": "ipython",
    "version": 3
   },
   "file_extension": ".py",
   "mimetype": "text/x-python",
   "name": "python",
   "nbconvert_exporter": "python",
   "pygments_lexer": "ipython3",
   "version": "3.11.3"
  }
 },
 "nbformat": 4,
 "nbformat_minor": 2
}
